{
 "cells": [
  {
   "cell_type": "code",
   "execution_count": 75,
   "id": "2cb91c40-3c90-435b-bcb3-6a9d29859efd",
   "metadata": {},
   "outputs": [],
   "source": [
    "import akshare as ak\n",
    "import pandas as pd\n",
    "import matplotlib.pyplot as plt\n",
    "import talib as ta\n",
    "\n",
    "df = ak.stock_zh_a_daily(symbol=\"sh600570\", start_date=\"19910403\", end_date=\"20240417\", adjust=\"hfq\")"
   ]
  },
  {
   "cell_type": "code",
   "execution_count": 161,
   "id": "434357f9",
   "metadata": {},
   "outputs": [
    {
     "name": "stderr",
     "output_type": "stream",
     "text": [
      "C:\\Users\\hspcadmin\\AppData\\Local\\Temp\\ipykernel_37800\\1800615990.py:13: FutureWarning: A value is trying to be set on a copy of a DataFrame or Series through chained assignment using an inplace method.\n",
      "The behavior will change in pandas 3.0. This inplace method will never work because the intermediate object on which we are setting values always behaves as a copy.\n",
      "\n",
      "For example, when doing 'df[col].method(value, inplace=True)', try using 'df.method({col: value}, inplace=True)' or df[col] = df[col].method(value) instead, to perform the operation inplace on the original object.\n",
      "\n",
      "\n",
      "  df['当天仓位'].ffill(inplace=True)\n",
      "C:\\Users\\hspcadmin\\AppData\\Local\\Temp\\ipykernel_37800\\1800615990.py:16: SettingWithCopyWarning: \n",
      "A value is trying to be set on a copy of a slice from a DataFrame.\n",
      "Try using .loc[row_indexer,col_indexer] = value instead\n",
      "\n",
      "See the caveats in the documentation: https://pandas.pydata.org/pandas-docs/stable/user_guide/indexing.html#returning-a-view-versus-a-copy\n",
      "  df_new['策略净值']=(df_new['ret']*df_new['当天仓位']+1.0).cumprod()\n",
      "C:\\Users\\hspcadmin\\AppData\\Local\\Temp\\ipykernel_37800\\1800615990.py:17: SettingWithCopyWarning: \n",
      "A value is trying to be set on a copy of a slice from a DataFrame.\n",
      "Try using .loc[row_indexer,col_indexer] = value instead\n",
      "\n",
      "See the caveats in the documentation: https://pandas.pydata.org/pandas-docs/stable/user_guide/indexing.html#returning-a-view-versus-a-copy\n",
      "  df_new['指数净值']=df_new['close']/df_new['close'].iloc[0]\n"
     ]
    }
   ],
   "source": [
    "df['ret']=df.close/df.close.shift(1)-1\n",
    "# high,low,close,amount = df.high.values,df.low.values,df.close.values,df.amount.values\n",
    "# df['mfi']=ta.MFI(high,low,close,amount,14)\n",
    "df['mfi']=ta.MFI(df.high,df.low,df.close,df.amount,14)\n",
    "L=20\n",
    "H=80\n",
    "for i in range(14,len(df)):\n",
    "    if df['mfi'][i]>L and df['mfi'][i-1]<L:\n",
    "        df.loc[df.index[i],'收盘信号']=1\n",
    "    if df['mfi'][i]<H and df['mfi'][i-1]>H:\n",
    "        df.loc[df.index[i],'收盘信号']=0\n",
    "df['当天仓位']=df['收盘信号'].shift(1)\n",
    "df['当天仓位'].ffill(inplace=True)\n",
    "d = df[df['收盘信号']==1].index[0]\n",
    "df_new = df[d:]\n",
    "df_new['策略净值']=(df_new['ret']*df_new['当天仓位']+1.0).cumprod()\n",
    "df_new['指数净值']=df_new['close']/df_new['close'].iloc[0]\n",
    "# df_new.to_excel(\"tmp.xlsx\")"
   ]
  },
  {
   "cell_type": "code",
   "execution_count": 142,
   "id": "6cb6a362",
   "metadata": {},
   "outputs": [
    {
     "name": "stdout",
     "output_type": "stream",
     "text": [
      "策略净值    0.060821\n",
      "指数净值    0.253267\n",
      "Name: 4834, dtype: float64\n",
      "4697\n"
     ]
    }
   ],
   "source": [
    "total_ret=df_new[['策略净值','指数净值']].iloc[-1]-1\n",
    "annual_ret=pow(1+total_ret,250/len(df_new))-1"
   ]
  },
  {
   "cell_type": "code",
   "execution_count": 168,
   "id": "ba206a3a",
   "metadata": {},
   "outputs": [
    {
     "name": "stderr",
     "output_type": "stream",
     "text": [
      "C:\\Users\\hspcadmin\\AppData\\Local\\Temp\\ipykernel_37800\\633446065.py:1: SettingWithCopyWarning: \n",
      "A value is trying to be set on a copy of a slice from a DataFrame.\n",
      "Try using .loc[row_indexer,col_indexer] = value instead\n",
      "\n",
      "See the caveats in the documentation: https://pandas.pydata.org/pandas-docs/stable/user_guide/indexing.html#returning-a-view-versus-a-copy\n",
      "  df_new['策略收益率']=df_new['策略净值']/df_new['策略净值'].shift(1)-1\n",
      "C:\\Users\\hspcadmin\\AppData\\Local\\Temp\\ipykernel_37800\\633446065.py:2: SettingWithCopyWarning: \n",
      "A value is trying to be set on a copy of a slice from a DataFrame.\n",
      "Try using .loc[row_indexer,col_indexer] = value instead\n",
      "\n",
      "See the caveats in the documentation: https://pandas.pydata.org/pandas-docs/stable/user_guide/indexing.html#returning-a-view-versus-a-copy\n",
      "  df_new['指数收益率']=df_new.ret\n"
     ]
    },
    {
     "data": {
      "text/plain": [
       "0.0038578268555360326"
      ]
     },
     "execution_count": 168,
     "metadata": {},
     "output_type": "execute_result"
    }
   ],
   "source": [
    "df_new['策略收益率']=df_new['策略净值']/df_new['策略净值'].shift(1)-1\n",
    "df_new['指数收益率']=df_new.ret\n",
    "# beta=df_new[['策略收益率','ret']].cov().iat[0,1]/df_new['ret'].var()\n",
    "# beta\n",
    "total_ret=df_new[['策略净值','指数净值']].iloc[-1]-1\n",
    "annual_ret=pow(1+total_ret,250/len(df_new))-1\n",
    "beta=df_new[['策略收益率','指数收益率']].cov().iat[0,1]/df_new['指数收益率'].var()\n",
    "alpha=(annual_ret['策略净值']-annual_ret['指数净值']*beta)\n",
    "alpha"
   ]
  },
  {
   "cell_type": "code",
   "execution_count": 176,
   "id": "865a5c4a",
   "metadata": {},
   "outputs": [
    {
     "name": "stdout",
     "output_type": "stream",
     "text": [
      "138          NaN\n",
      "139    -0.023789\n",
      "140    -0.008453\n",
      "141     0.016687\n",
      "142    -0.036183\n",
      "          ...   \n",
      "4830   -0.000120\n",
      "4831   -0.000120\n",
      "4832   -0.000120\n",
      "4833   -0.026756\n",
      "4834    0.027737\n",
      "Name: 策略收益率, Length: 4697, dtype: float64\n"
     ]
    },
    {
     "data": {
      "text/plain": [
       "1.0400710680926346"
      ]
     },
     "execution_count": 176,
     "metadata": {},
     "output_type": "execute_result"
    }
   ],
   "source": [
    "import numpy as np\n",
    "exReturn=df_new['策略收益率']-0.03/250\n",
    "print(exReturn)\n",
    "sharper_atio=np.sqrt(len(exReturn))*exReturn.mean()/exReturn.std()\n",
    "sharper_atio"
   ]
  },
  {
   "cell_type": "code",
   "execution_count": null,
   "id": "325c19ee",
   "metadata": {},
   "outputs": [],
   "source": []
  },
  {
   "cell_type": "code",
   "execution_count": null,
   "id": "b85ac59c",
   "metadata": {},
   "outputs": [],
   "source": []
  },
  {
   "cell_type": "code",
   "execution_count": null,
   "id": "b4f6a0bf",
   "metadata": {},
   "outputs": [],
   "source": []
  },
  {
   "cell_type": "code",
   "execution_count": null,
   "id": "fbc3cc7c",
   "metadata": {},
   "outputs": [],
   "source": []
  },
  {
   "cell_type": "code",
   "execution_count": null,
   "id": "2408e4c1",
   "metadata": {},
   "outputs": [],
   "source": []
  },
  {
   "cell_type": "code",
   "execution_count": null,
   "id": "27e667bc",
   "metadata": {},
   "outputs": [],
   "source": []
  },
  {
   "cell_type": "code",
   "execution_count": null,
   "id": "f6f4279e",
   "metadata": {},
   "outputs": [],
   "source": []
  },
  {
   "cell_type": "code",
   "execution_count": null,
   "id": "d3d5c6c3",
   "metadata": {},
   "outputs": [],
   "source": []
  }
 ],
 "metadata": {
  "kernelspec": {
   "display_name": "Python 3 (ipykernel)",
   "language": "python",
   "name": "python3"
  },
  "language_info": {
   "codemirror_mode": {
    "name": "ipython",
    "version": 3
   },
   "file_extension": ".py",
   "mimetype": "text/x-python",
   "name": "python",
   "nbconvert_exporter": "python",
   "pygments_lexer": "ipython3",
   "version": "3.9.19"
  }
 },
 "nbformat": 4,
 "nbformat_minor": 5
}
